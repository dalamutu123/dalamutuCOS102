{
 "cells": [
  {
   "cell_type": "markdown",
   "id": "67066775",
   "metadata": {},
   "source": [
    "## Solution"
   ]
  },
  {
   "cell_type": "code",
   "execution_count": 2,
   "id": "c2b8aa01",
   "metadata": {},
   "outputs": [],
   "source": [
    "import tkinter as tk\n",
    "from tkinter import messagebox as msgbox\n",
    "import random as rd\n",
    "\n",
    "class Employee:\n",
    "    employee_list = [\n",
    "        \"Mary Evans\", \"Eyo Ishan\", \"Durojaiye Dare\", \"Adams Ali\", \"Andrew Ugwu\",\n",
    "        \"Stella Mankinde\", \"Jane Akibo\", \"Ago James\", \"Michell Taiwo\",\n",
    "        \"Abraham Jones\", \"Nicole Anide\", \"Kosi Korso\", \"Adele Martins\",\n",
    "        \"Emmanuel Ojo\", \"Ajayi Fatima\"\n",
    "    ]\n",
    "\n",
    "    tasks = [\"Loading\", \"Transporting\", \"Reviewing Orders\", \"Customer Service\", \"Delivering Items\"]\n",
    "\n",
    "    def __init__(self, name):\n",
    "        self.empName = name\n",
    "\n",
    "    def check_employee(self):\n",
    "        return self.empName in Employee.employee_list\n",
    "\n",
    "    def take_attendance(self):\n",
    "        msgbox.showinfo(\"ATTENDANCE COMPLETE\", f\"Employee, {self.empName}'s attendance has been taken\")\n",
    "\n",
    "    def assign_task(self):\n",
    "        task = rd.choice(Employee.tasks)\n",
    "        msgbox.showinfo(\"TASK\", f\"Your task for the day is: {task}\")\n",
    "\n",
    "    def refuse_access(self):\n",
    "        msgbox.showerror(\"ERROR\", f\"Sorry,\\nNo employee named {self.empName} exists in the records.\")\n",
    "\n",
    "def click():\n",
    "    f_name = first_name_entry.get()\n",
    "    l_name = last_name_entry.get()\n",
    "    name = f\"{f_name.strip().title()} {l_name.strip().title()}\"\n",
    "\n",
    "    emp = Employee(name)\n",
    "\n",
    "    if emp.check_employee():\n",
    "        emp.take_attendance()\n",
    "        emp.assign_task()\n",
    "    else:\n",
    "        emp.refuse_access()\n",
    "\n",
    "# Creating the main window\n",
    "root = tk.Tk()\n",
    "root.title(\"Employee Attendance App\")\n",
    "root.geometry(\"500x200\")\n",
    "\n",
    "# Creating label and entry for first name\n",
    "first_name_label = tk.Label(root, text=\"First Name: \")\n",
    "first_name_label.pack()\n",
    "first_name_entry = tk.Entry(root)\n",
    "first_name_entry.pack()\n",
    "\n",
    "# Creating label and entry for last name\n",
    "last_name_label = tk.Label(root, text=\"Last Name: \")\n",
    "last_name_label.pack()\n",
    "last_name_entry = tk.Entry(root)\n",
    "last_name_entry.pack()\n",
    "\n",
    "# Creating button to click for submission\n",
    "submit_button = tk.Button(root, text=\"Check\", command=click)\n",
    "submit_button.pack()\n",
    "\n",
    "# Run the main event loop\n",
    "root.mainloop()\n"
   ]
  },
  {
   "cell_type": "code",
   "execution_count": null,
   "id": "43d0f8d1",
   "metadata": {},
   "outputs": [],
   "source": []
  }
 ],
 "metadata": {
  "kernelspec": {
   "display_name": "base",
   "language": "python",
   "name": "python3"
  },
  "language_info": {
   "codemirror_mode": {
    "name": "ipython",
    "version": 3
   },
   "file_extension": ".py",
   "mimetype": "text/x-python",
   "name": "python",
   "nbconvert_exporter": "python",
   "pygments_lexer": "ipython3",
   "version": "3.12.7"
  }
 },
 "nbformat": 4,
 "nbformat_minor": 5
}
