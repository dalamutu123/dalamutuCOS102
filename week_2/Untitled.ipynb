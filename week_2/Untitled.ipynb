{
 "cells": [
  {
   "cell_type": "markdown",
   "id": "30e8e6b1-089d-4e4e-9ae6-b88a879506d9",
   "metadata": {},
   "source": [
    "# Testing\n",
    "\n",
    "## Testing"
   ]
  },
  {
   "cell_type": "code",
   "execution_count": 1,
   "id": "a01c5de3-f977-4a21-9d6d-fea55a656451",
   "metadata": {},
   "outputs": [
    {
     "name": "stdout",
     "output_type": "stream",
     "text": [
      "Your papa\n"
     ]
    }
   ],
   "source": [
    "print(\"Your papa\")"
   ]
  }
 ],
 "metadata": {
  "kernelspec": {
   "display_name": "Python [conda env:base] *",
   "language": "python",
   "name": "conda-base-py"
  },
  "language_info": {
   "codemirror_mode": {
    "name": "ipython",
    "version": 3
   },
   "file_extension": ".py",
   "mimetype": "text/x-python",
   "name": "python",
   "nbconvert_exporter": "python",
   "pygments_lexer": "ipython3",
   "version": "3.12.7"
  }
 },
 "nbformat": 4,
 "nbformat_minor": 5
}
