{
 "cells": [
  {
   "cell_type": "markdown",
   "id": "5d5792a2",
   "metadata": {},
   "source": [
    "## Cadbury PLC Product Categories"
   ]
  },
  {
   "cell_type": "code",
   "execution_count": 2,
   "id": "d430c76d",
   "metadata": {},
   "outputs": [],
   "source": [
    "import pandas as pd\n",
    "\n",
    "data = [\n",
    "    {'Segment': 'Refreshment Beverages', 'Brand/Product': 'CADBURY BOURNVITA', 'Exported': 'No'},\n",
    "    {'Segment': 'Refreshment Beverages', 'Brand/Product': 'CADBURY 3-in-1 HOT CHOCOLATE', 'Exported': 'No'},\n",
    "    {'Segment': 'Confectionery', 'Brand/Product': 'TOMTOM CLASSIC', 'Exported': 'No'},\n",
    "    {'Segment': 'Confectionery', 'Brand/Product': 'TOMTOM STRAWBERRY', 'Exported': 'No'},\n",
    "    {'Segment': 'Confectionery', 'Brand/Product': 'BUTTERMINT', 'Exported': 'No'},\n",
    "    {'Segment': 'Intermediate Cocoa Prod.', 'Brand/Product': 'COCOA BUTTER', 'Exported': 'Yes'},\n",
    "    {'Segment': 'Intermediate Cocoa Prod.', 'Brand/Product': 'COCOA POWDER', 'Exported': 'Local export'},\n",
    "    {'Segment': 'Intermediate Cocoa Prod.', 'Brand/Product': 'COCOA LIQUOR', 'Exported': 'Yes'},\n",
    "    {'Segment': 'Intermediate Cocoa Prod.', 'Brand/Product': 'COCOA CAKE', 'Exported': 'Yes'},\n",
    "]\n",
    "\n",
    "df = pd.DataFrame(data)\n",
    "\n",
    "df.to_csv('cadbury_market.csv')"
   ]
  },
  {
   "cell_type": "code",
   "execution_count": null,
   "id": "156f7d0d",
   "metadata": {},
   "outputs": [],
   "source": []
  }
 ],
 "metadata": {
  "kernelspec": {
   "display_name": "base",
   "language": "python",
   "name": "python3"
  },
  "language_info": {
   "codemirror_mode": {
    "name": "ipython",
    "version": 3
   },
   "file_extension": ".py",
   "mimetype": "text/x-python",
   "name": "python",
   "nbconvert_exporter": "python",
   "pygments_lexer": "ipython3",
   "version": "3.12.7"
  }
 },
 "nbformat": 4,
 "nbformat_minor": 5
}
