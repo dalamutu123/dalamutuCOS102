{
 "cells": [
  {
   "cell_type": "markdown",
   "id": "8f72662d-15eb-4aad-b553-d1ce8c6cd7e7",
   "metadata": {},
   "source": [
    "## Top Apps in Google Play"
   ]
  },
  {
   "cell_type": "markdown",
   "id": "6358558f-8c7e-4d81-bc9a-478499857190",
   "metadata": {},
   "source": [
    "### First 7 rows"
   ]
  },
  {
   "cell_type": "code",
   "execution_count": null,
   "id": "ffbea17e-5ba1-478b-a561-c41a509d15fe",
   "metadata": {},
   "outputs": [],
   "source": [
    "# importing pandas package\n",
    "import pandas as pd\n",
    " \n",
    "# making data frame from csv file\n",
    "data = pd.read_csv(\"top_apps_googleplay.csv\")\n",
    "\n",
    "df=data.head(7)\n",
    "\n",
    "# print excel\n",
    "df"
   ]
  },
  {
   "cell_type": "markdown",
   "id": "792149a9-e4f5-4afb-ab2a-6c35496e0f04",
   "metadata": {},
   "source": [
    "### First 3 columns"
   ]
  },
  {
   "cell_type": "code",
   "execution_count": null,
   "id": "be5b79d7-0609-488e-9e69-0b0bc83cc1d0",
   "metadata": {},
   "outputs": [],
   "source": [
    "# importing pandas package\n",
    "import pandas as pd\n",
    " \n",
    "# making data frame from csv file\n",
    "data = pd.read_csv(\"top_apps_googleplay.csv\")\n",
    "\n",
    "df=data.iloc[:, :3]\n",
    "\n",
    "# print excel\n",
    "df"
   ]
  },
  {
   "cell_type": "markdown",
   "id": "02383e2b-f439-4ee2-af7c-c625a0744a89",
   "metadata": {},
   "source": [
    "### Display only one row and header"
   ]
  },
  {
   "cell_type": "code",
   "execution_count": null,
   "id": "a7b04588-91fe-4b1b-86a0-eb844137dc22",
   "metadata": {},
   "outputs": [],
   "source": [
    "import pandas as pd\n",
    " \n",
    "# making data frame from csv file\n",
    "data = pd.read_csv(\"top_apps_googleplay.csv\")\n",
    "\n",
    "df = data.iloc[[9]]\n",
    "\n",
    "df"
   ]
  },
  {
   "cell_type": "markdown",
   "id": "e0896d4b-6fb9-491e-8f81-fff59d76f06c",
   "metadata": {},
   "source": [
    "## Cryptocurrency Predict Artificial Intelligence V3"
   ]
  },
  {
   "cell_type": "markdown",
   "id": "0fb3c14e-6e27-41ba-81f7-0ce24aaaf151",
   "metadata": {},
   "source": [
    "### First 7 Rows"
   ]
  },
  {
   "cell_type": "code",
   "execution_count": null,
   "id": "f3b35d4b-fa39-40c2-a83f-d86cfae126ed",
   "metadata": {},
   "outputs": [],
   "source": [
    "# importing pandas package\n",
    "import pandas as pd\n",
    " \n",
    "# making data frame from csv file\n",
    "data = pd.read_csv(\"btc_data_v3.csv\")\n",
    "\n",
    "df=data.head(7)\n",
    "\n",
    "# print excel\n",
    "df"
   ]
  },
  {
   "cell_type": "markdown",
   "id": "c335595f-c12d-4602-9782-934dac7b806a",
   "metadata": {},
   "source": [
    "### First 3 Columns"
   ]
  },
  {
   "cell_type": "code",
   "execution_count": null,
   "id": "b9bb1d38-bc01-486a-81ed-0b98917e8643",
   "metadata": {},
   "outputs": [],
   "source": [
    "import pandas as pd\n",
    " \n",
    "# making data frame from csv file\n",
    "data = pd.read_csv(\"btc_data_v3.csv\")\n",
    "\n",
    "df=data.iloc[:, :3]\n",
    "\n",
    "# print excel\n",
    "df"
   ]
  },
  {
   "cell_type": "markdown",
   "id": "db6ca3c5-b992-4441-a120-08ce1170c190",
   "metadata": {},
   "source": [
    "### Display one row and header"
   ]
  },
  {
   "cell_type": "code",
   "execution_count": null,
   "id": "a45de0b8-8bfa-4086-be7e-7648e600680a",
   "metadata": {},
   "outputs": [],
   "source": [
    "import pandas as pd\n",
    " \n",
    "# making data frame from csv file\n",
    "data = pd.read_csv(\"btc_data_v3.csv\")\n",
    "\n",
    "df = data.iloc[[4]]\n",
    "\n",
    "df"
   ]
  },
  {
   "cell_type": "markdown",
   "id": "4a6b8a82-0c99-40ec-b12b-90f8cce9055b",
   "metadata": {},
   "source": [
    "## Programming Languages Trend Over Time"
   ]
  },
  {
   "cell_type": "markdown",
   "id": "161261b5-4005-4350-a6e2-3dd83ec98847",
   "metadata": {},
   "source": [
    "### First 7 rows"
   ]
  },
  {
   "cell_type": "code",
   "execution_count": null,
   "id": "0d2179f7-2e11-4324-8fe6-194b8c5d51f7",
   "metadata": {},
   "outputs": [],
   "source": [
    "# importing pandas package\n",
    "import pandas as pd\n",
    " \n",
    "# making data frame from csv file\n",
    "data = pd.read_csv(\"prog_ lang_trend.csv\")\n",
    "\n",
    "df=data.head(7)\n",
    "\n",
    "# print excel\n",
    "df"
   ]
  },
  {
   "cell_type": "markdown",
   "id": "c5299731-8c7d-46fc-b106-570abddae2ef",
   "metadata": {},
   "source": [
    "### First 3 columns"
   ]
  },
  {
   "cell_type": "code",
   "execution_count": null,
   "id": "8bb683cb-0234-481b-af0e-3064f84d7828",
   "metadata": {},
   "outputs": [],
   "source": [
    "import pandas as pd\n",
    " \n",
    "# making data frame from csv file\n",
    "data = pd.read_csv(\"prog_ lang_trend.csv\")\n",
    "\n",
    "df=data.iloc[:, :3]\n",
    "\n",
    "# print excel\n",
    "df"
   ]
  },
  {
   "cell_type": "markdown",
   "id": "9b25bc96-f543-4868-9236-44a65cd920fa",
   "metadata": {},
   "source": [
    "### Display one row and header"
   ]
  },
  {
   "cell_type": "code",
   "execution_count": null,
   "id": "cda64ccc-5491-4ec6-9dd3-d6ae4e996ed8",
   "metadata": {},
   "outputs": [],
   "source": [
    "import pandas as pd\n",
    " \n",
    "# making data frame from csv file\n",
    "data = pd.read_csv(\"prog_ lang_trend.csv\")\n",
    "\n",
    "df = data.iloc[[13]]\n",
    "\n",
    "df"
   ]
  },
  {
   "cell_type": "code",
   "execution_count": null,
   "id": "18dbea7d-2b88-40b9-bb91-76837efaf449",
   "metadata": {},
   "outputs": [],
   "source": []
  }
 ],
 "metadata": {
  "kernelspec": {
   "display_name": "base",
   "language": "python",
   "name": "python3"
  },
  "language_info": {
   "codemirror_mode": {
    "name": "ipython",
    "version": 3
   },
   "file_extension": ".py",
   "mimetype": "text/x-python",
   "name": "python",
   "nbconvert_exporter": "python",
   "pygments_lexer": "ipython3",
   "version": "3.12.7"
  }
 },
 "nbformat": 4,
 "nbformat_minor": 5
}
